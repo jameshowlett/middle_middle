{
 "cells": [
  {
   "cell_type": "code",
   "execution_count": 242,
   "metadata": {
    "collapsed": false
   },
   "outputs": [],
   "source": [
    "import json\n",
    "import urllib\n",
    "from bs4 import BeautifulSoup\n",
    "from collections import OrderedDict\n",
    "import numpy as np\n",
    "import pandas as pd\n",
    "import copy\n",
    "# load rmagic\n",
    "#%load_ext rpy2.ipython"
   ]
  },
  {
   "cell_type": "code",
   "execution_count": 249,
   "metadata": {
    "collapsed": true
   },
   "outputs": [],
   "source": [
    "# this cell is most likely useless\n",
    "\n",
    "def extract_mapping(id_value, xml=idd_structure.html.body):\n",
    "    \"\"\"\n",
    "    stats.oecd.org sends back results in the same order as the\n",
    "    structure specified in XML body, so we need to use\n",
    "    an ordered dictionary to preserve the ordering\n",
    "    \"\"\"\n",
    "    output = OrderedDict()\n",
    "    subtree = xml.find(id=id_value)\n",
    "    for x in subtree.find_all('code'):\n",
    "        output[x['value']] = x.find(attrs={'xml:lang':'en'}).text\n",
    "    \n",
    "    return output\n",
    "\n",
    "# build function to extract mapping from data structure\n",
    "idd_structure=BeautifulSoup(urllib.urlopen('http://stats.oecd.org/restsdmx/sdmx.ashx/GetDataStructure/IDD'))\n",
    "\n",
    "\"\"\"\n",
    "the 'keyfamily' tags in the structure contain the id's of all the dimension-data\n",
    "<KeyFamily id=\"IDD\" agencyID=\"OECD\">\n",
    "    <Name xml:lang=\"en\">Income Distribution and Poverty</Name>\n",
    "    <Name xml:lang=\"fr\">Distribution des revenus et pauvreté</Name>\n",
    "    <Components>\n",
    "        <Dimension codelist=\"CL_IDD_LOCATION\" conceptRef=\"LOCATION\"/>\n",
    "        <Dimension codelist=\"CL_IDD_MEASURE\" conceptRef=\"MEASURE\" isMeasureDimension=\"true\"/>\n",
    "        <Dimension codelist=\"CL_IDD_AGE\" conceptRef=\"AGE\"/>\n",
    "        <Dimension codelist=\"CL_IDD_DEFINITION\" conceptRef=\"DEFINITION\"/>\n",
    "        <Dimension codelist=\"CL_IDD_METHODO\" conceptRef=\"METHODO\"/>\n",
    "        <TimeDimension codelist=\"CL_IDD_TIME\" conceptRef=\"TIME\"/>\n",
    "        ...\n",
    "    </Components>\n",
    "...\n",
    "</KeyFamily>\n",
    "\n",
    "We can then search the dom for valid dimensions values via\n",
    "dom.find_all(id=dimension['codelist'])\n",
    "\"\"\"\n",
    "dimension_maps = {}\n",
    "for x in idd_structure.html.body.keyfamily.components.find_all('dimension'):\n",
    "    dimension_maps[x['conceptref'].lower()]=extract_mapping(x['codelist'])\n",
    "\n",
    "\"\"\" build API query:\n",
    "The format is \n",
    "\n",
    "LOCATION.MEASURE.AGE.DEFINITION.METHODO\n",
    "\n",
    "where each dimension is '+' separated\n",
    "\n",
    "For the most part, we're interest all locations,\n",
    "measures, ages, and methods, and just the 'CURRENT'\n",
    "dimension...\n",
    "age and definition only return one value...\n",
    "\"\"\"\n",
    "dimensions = ['location', 'measure', 'age', 'definition', 'methodo']\n",
    "dimension_filter = []\n",
    "for dimension in dimensions:\n",
    "    dimension_map = dimension_maps[dimension]\n",
    "    dimension_filter.append('+'.join(dimension_map.keys()))\n",
    "\n",
    "dimension_filter = '.'.join(dimension_filter)"
   ]
  },
  {
   "cell_type": "markdown",
   "metadata": {},
   "source": [
    "### Look at Income Disparity"
   ]
  },
  {
   "cell_type": "code",
   "execution_count": 304,
   "metadata": {
    "collapsed": false
   },
   "outputs": [],
   "source": [
    "idd_base_url = 'http://stats.oecd.org/sdmx-json/data/IDD'\n",
    "dimension_filter = 'all' # grab all data\n",
    "time_filter = 'all?startTime=2001&endTime=2014'\n",
    "optional_filters = '&detail=dataonly'\n",
    "data_query = idd_base_url + '/' + dimension_filter + '/' + time_filter + optional_filters\n",
    "stats_oecd_idd = json.load(urllib.urlopen(data_query))"
   ]
  },
  {
   "cell_type": "code",
   "execution_count": 363,
   "metadata": {
    "collapsed": true
   },
   "outputs": [
    {
     "name": "stdout",
     "output_type": "stream",
     "text": [
      "4:60:0:0:0\n",
      "23:62:1:0:1\n",
      "1:0:0:2:0\n",
      "24:37:1:2:0\n",
      "33:25:0:0:1\n",
      "16:1:0:0:0\n",
      "16:1:0:0:1\n",
      "2:39:1:0:1\n",
      "13:64:1:0:1\n",
      "7:32:0:0:0\n",
      "11:14:0:0:0\n",
      "11:14:0:0:1\n",
      "3:15:2:0:1\n",
      "8:37:1:0:0\n",
      "29:33:1:0:1\n",
      "29:33:1:0:0\n",
      "22:46:0:0:1\n",
      "22:46:0:0:0\n",
      "1:30:0:0:0\n",
      "1:30:0:0:1\n",
      "6:37:0:0:0\n",
      "6:37:0:0:1\n",
      "2:45:1:0:1\n",
      "29:2:0:0:1\n",
      "29:2:0:0:0\n",
      "0:63:1:0:0\n",
      "0:63:1:0:1\n",
      "23:15:1:0:1\n",
      "23:15:1:0:0\n",
      "31:17:1:0:0\n",
      "27:48:2:0:0\n",
      "27:48:2:0:1\n",
      "25:9:2:0:0\n",
      "12:53:0:0:0\n",
      "12:53:0:0:1\n",
      "11:1:0:0:1\n",
      "11:1:0:0:0\n",
      "21:51:1:0:0\n",
      "9:3:1:0:0\n",
      "9:3:1:0:1\n",
      "16:51:1:0:1\n",
      "16:51:1:0:0\n",
      "9:43:0:0:0\n",
      "9:43:0:0:1\n",
      "6:27:1:0:1\n",
      "18:31:0:0:0\n",
      "18:31:0:0:1\n",
      "1:14:2:0:0\n",
      "1:14:2:0:1\n",
      "13:37:2:0:1\n",
      "13:37:2:0:0\n",
      "33:2:0:0:1\n",
      "26:47:0:0:0\n",
      "26:47:0:0:1\n",
      "10:2:0:0:1\n",
      "10:2:0:0:0\n",
      "4:0:0:0:1\n",
      "4:0:0:0:0\n",
      "23:47:0:0:1\n",
      "23:47:0:0:0\n",
      "10:49:0:0:1\n",
      "10:49:0:0:0\n",
      "5:28:0:0:1\n",
      "5:28:0:0:0\n",
      "12:15:2:0:0\n",
      "29:38:0:0:1\n",
      "29:38:0:0:0\n",
      "24:44:2:0:1\n",
      "34:24:1:0:0\n",
      "24:27:0:2:0\n",
      "19:25:0:1:1\n",
      "3:15:2:0:0\n",
      "25:22:0:0:0\n",
      "25:22:0:0:1\n",
      "24:51:1:0:0\n",
      "24:51:1:0:1\n",
      "30:63:1:0:1\n",
      "4:0:2:0:1\n",
      "7:9:2:0:0\n",
      "4:0:2:0:0\n",
      "20:3:1:1:1\n",
      "20:62:1:1:1\n",
      "1:50:0:0:0\n",
      "1:50:0:0:1\n",
      "23:16:0:0:1\n",
      "23:16:0:0:0\n",
      "27:40:1:0:1\n",
      "13:14:1:1:1\n",
      "26:45:2:0:1\n",
      "8:33:0:0:0\n",
      "8:33:0:0:1\n",
      "17:47:0:0:0\n",
      "17:47:0:0:1\n",
      "6:11:0:0:1\n",
      "26:33:0:2:1\n",
      "23:40:2:0:1\n",
      "18:44:1:0:1\n",
      "14:46:1:0:1\n",
      "24:33:1:0:0\n",
      "24:33:1:0:1\n"
     ]
    }
   ],
   "source": [
    "\"\"\"parse json data into DataFrame:\n",
    "\n",
    "the json comes with a 'structure' section which explains how to\n",
    "interpret the keys (e.g. 1:2:3:4:5) for the observations.\n",
    "\n",
    "We first need to parse the 'structure' to figure out what the\n",
    "dimension names (and order) is. Then, we need to unpack\n",
    "observation values into floats (as opposed to arrays)\n",
    "\"\"\"\n",
    "metadata_stats_oecd_idd = stats_oecd_idd['structure']['dimensions']\n",
    "\n",
    "col_names = []\n",
    "for dim in metadata_stats_oecd_idd['series']:\n",
    "    col_names.append(dim['id'].lower())\n",
    "\n",
    "idd_dataframe = pd.DataFrame()\n",
    "\n",
    "for key, value in stats_oecd_idd['dataSets'][0]['series'].items()[0:100]:\n",
    "    print key\n",
    "    data = pd.DataFrame(dict(zip(col_names, [[x] for x in key.split(\":\")])))\n",
    "    \n",
    "    observations = copy.copy(value['observations'])\n",
    "    \n",
    "    for time, measure in observations.items():\n",
    "        observations[time] = measure[0]\n",
    "    \n",
    "    observations = pd.DataFrame(observations.items(), columns=['time_period','observation'])\n",
    "    \n",
    "    observations['location'] = data['location'].iloc[0]\n",
    "    \n",
    "    data = pd.merge(right=data,\\\n",
    "                    left=observations,\\\n",
    "                    on='location',\\\n",
    "                    how='outer')\n",
    "    try:\n",
    "        idd_dataframe = idd_dataframe.append(data, ignore_index=False)\n",
    "    except AttributeError:\n",
    "        pass\n",
    "    "
   ]
  },
  {
   "cell_type": "code",
   "execution_count": 364,
   "metadata": {
    "collapsed": false
   },
   "outputs": [],
   "source": [
    "\"\"\"\n",
    "Append meta data to OECD stats dataframe:\n",
    "\n",
    "the returned JSON has a 'structure' object with 'dimensions'\n",
    "child that contains all the information to translate series\n",
    "identifiers x:y:z:w:a into something human parsable.\n",
    "\n",
    "A series of merges should be anticipated. Hence, it makes\n",
    "sense to store all the metadata in a dictionary where the\n",
    "keys will be the merge indices.\n",
    "\"\"\"\n",
    "oecd_metadata = {}\n",
    "for dim in metadata_stats_oecd_idd['series']:\n",
    "    dim_dataframe = pd.DataFrame(dim['values'])\n",
    "    dim_id = dim['id'].lower()\n",
    "    dim_dataframe.columns = [dim_id + '_code', dim_id + '_name']\n",
    "    dim_dataframe[dim_id] = dim_dataframe.index.astype(str)\n",
    "    oecd_metadata[dim_id] = dim_dataframe\n",
    "\n",
    "# make time metadata\n",
    "time_metadata = metadata_stats_oecd_idd['observation'][0]\n",
    "time_metadata_index = time_metadata['role'].lower()\n",
    "time_metadata_df = pd.DataFrame(time_metadata['values'])\n",
    "time_metadata_df.columns = ['year', time_metadata_index]\n",
    "time_metadata_df[time_metadata_index] = time_metadata_df.index.astype(str)\n",
    "\n",
    "oecd_metadata[time_metadata_index] = time_metadata_df\n",
    "\n",
    "for key, df in oecd_metadata.items():\n",
    "    idd_dataframe = pd.merge(left=idd_dataframe,\\\n",
    "                             right=df,\\\n",
    "                             how='left',\\\n",
    "                             on=key)"
   ]
  },
  {
   "cell_type": "code",
   "execution_count": 370,
   "metadata": {
    "collapsed": false
   },
   "outputs": [
    {
     "name": "stdout",
     "output_type": "stream",
     "text": [
      "    time_period  observation location age definition measure methodo  \\\n",
      "378          10        0.260        4   0          0       0       1   \n",
      "379           1        0.269        4   0          0       0       1   \n",
      "385           7        0.261        4   0          0       0       1   \n",
      "387           8        0.261        4   0          0       0       1   \n",
      "384           4        0.257        4   0          0       0       1   \n",
      "382           2        0.260        4   0          0       0       1   \n",
      "383           5        0.258        4   0          0       0       1   \n",
      "381           3        0.258        4   0          0       0       1   \n",
      "386           6        0.256        4   0          0       0       1   \n",
      "380           0        0.252        4   0          0       0       1   \n",
      "\n",
      "    definition_code     definition_name age_code          age_name  \\\n",
      "378         CURRENT  Current definition      TOT  Total population   \n",
      "379         CURRENT  Current definition      TOT  Total population   \n",
      "385         CURRENT  Current definition      TOT  Total population   \n",
      "387         CURRENT  Current definition      TOT  Total population   \n",
      "384         CURRENT  Current definition      TOT  Total population   \n",
      "382         CURRENT  Current definition      TOT  Total population   \n",
      "383         CURRENT  Current definition      TOT  Total population   \n",
      "381         CURRENT  Current definition      TOT  Total population   \n",
      "386         CURRENT  Current definition      TOT  Total population   \n",
      "380         CURRENT  Current definition      TOT  Total population   \n",
      "\n",
      "    location_code   location_name measure_code  \\\n",
      "378           CZE  Czech Republic         GINI   \n",
      "379           CZE  Czech Republic         GINI   \n",
      "385           CZE  Czech Republic         GINI   \n",
      "387           CZE  Czech Republic         GINI   \n",
      "384           CZE  Czech Republic         GINI   \n",
      "382           CZE  Czech Republic         GINI   \n",
      "383           CZE  Czech Republic         GINI   \n",
      "381           CZE  Czech Republic         GINI   \n",
      "386           CZE  Czech Republic         GINI   \n",
      "380           CZE  Czech Republic         GINI   \n",
      "\n",
      "                                          measure_name methodo_code  \\\n",
      "378  Gini (disposable income, post taxes and transf...     METH2011   \n",
      "379  Gini (disposable income, post taxes and transf...     METH2011   \n",
      "385  Gini (disposable income, post taxes and transf...     METH2011   \n",
      "387  Gini (disposable income, post taxes and transf...     METH2011   \n",
      "384  Gini (disposable income, post taxes and transf...     METH2011   \n",
      "382  Gini (disposable income, post taxes and transf...     METH2011   \n",
      "383  Gini (disposable income, post taxes and transf...     METH2011   \n",
      "381  Gini (disposable income, post taxes and transf...     METH2011   \n",
      "386  Gini (disposable income, post taxes and transf...     METH2011   \n",
      "380  Gini (disposable income, post taxes and transf...     METH2011   \n",
      "\n",
      "                     methodo_name  year  \n",
      "378  Income definition until 2011  2002  \n",
      "379  Income definition until 2011  2004  \n",
      "385  Income definition until 2011  2005  \n",
      "387  Income definition until 2011  2006  \n",
      "384  Income definition until 2011  2007  \n",
      "382  Income definition until 2011  2008  \n",
      "383  Income definition until 2011  2009  \n",
      "381  Income definition until 2011  2010  \n",
      "386  Income definition until 2011  2011  \n",
      "380  Income definition until 2011  2012  \n"
     ]
    }
   ],
   "source": [
    "print idd_dataframe[idd_dataframe.measure_code == 'GINI'][\\\n",
    "                    idd_dataframe.definition_code=='CURRENT'][\\\n",
    "                    idd_dataframe.age_code=='TOT'][\\\n",
    "                    idd_dataframe.methodo_code=='METH2011'].sort('year')"
   ]
  },
  {
   "cell_type": "code",
   "execution_count": 225,
   "metadata": {
    "collapsed": false
   },
   "outputs": [
    {
     "name": "stdout",
     "output_type": "stream",
     "text": [
      "7:32:2:0:0\n",
      "time              14\n",
      "observation    12284\n",
      "location          35\n",
      "age                3\n",
      "definition         3\n",
      "measure           65\n",
      "methodology        2\n",
      "dtype: int64\n",
      "methodo:2\n",
      "definition:3\n",
      "age:3\n",
      "location:36\n",
      "measure:70\n"
     ]
    }
   ],
   "source": [
    "X = stats_oecd_idd['dataSets'][0]['series']\n",
    "zip(dimensions, [[x] for x in X.keys()[0].split(':')])\n",
    "\n",
    "#print X['0:0:0:0:1']\n",
    "#print [x.keys()[0] for x in dimension_maps.values()] \n",
    "#idd_dataframe.sort(['location','age', 'definition', 'measure','time','methodology'])\n",
    "#print dimension_maps['location'].keys() # CAN == 7\n",
    "data_string = str(dimension_maps['location'].keys().index('CAN')) + ':' +\\\n",
    "str(dimension_maps['measure'].keys().index('GINI')) + \":\" +\\\n",
    "str(dimension_maps['age'].keys().index('TOT')) + \":\" +\\\n",
    "str(dimension_maps['definition'].keys().index('CURRENT')) + \":\" +\\\n",
    "str(dimension_maps['methodo'].keys().index('METH2012'))\n",
    "print data_string\n",
    "\n",
    "print idd_dataframe.apply(lambda x: len(set(x.astype(int))), axis=0)\n",
    "# 14 years\n",
    "# 35 locations\n",
    "# 3 ages\n",
    "# 3 defintions\n",
    "# 65 measures\n",
    "# 2 methodologies\n",
    "for key, values in dimension_maps.items():\n",
    "    print key +\":\"+ str(len(values.keys()))"
   ]
  },
  {
   "cell_type": "code",
   "execution_count": 322,
   "metadata": {
    "collapsed": false
   },
   "outputs": [],
   "source": [
    "idd_dataframe"
   ]
  },
  {
   "cell_type": "code",
   "execution_count": 12,
   "metadata": {
    "collapsed": false
   },
   "outputs": [],
   "source": [
    "# save IDD data to csv\n",
    "idd_dataframe.to_csv('idd_dataframe.csv', index=False)"
   ]
  },
  {
   "cell_type": "code",
   "execution_count": 6,
   "metadata": {
    "collapsed": false,
    "scrolled": true
   },
   "outputs": [
    {
     "ename": "SyntaxError",
     "evalue": "invalid syntax (<ipython-input-6-04f7236fd6d0>, line 3)",
     "output_type": "error",
     "traceback": [
      "\u001b[1;36m  File \u001b[1;32m\"<ipython-input-6-04f7236fd6d0>\"\u001b[1;36m, line \u001b[1;32m3\u001b[0m\n\u001b[1;33m    %%R -i idd_dataframe -o x\u001b[0m\n\u001b[1;37m    ^\u001b[0m\n\u001b[1;31mSyntaxError\u001b[0m\u001b[1;31m:\u001b[0m invalid syntax\n"
     ]
    }
   ],
   "source": [
    "# this would be where I use Rmagic but it's failing\n",
    "# so I'm gonna spin up an R notebook instead\n",
    "%%R -i idd_dataframe -o x\n",
    "cat(\"hello\")\n",
    "x <- typeof(x)\n"
   ]
  },
  {
   "cell_type": "code",
   "execution_count": 11,
   "metadata": {
    "collapsed": false
   },
   "outputs": [],
   "source": [
    "idd_dataframe.to_csv?"
   ]
  }
 ],
 "metadata": {
  "kernelspec": {
   "display_name": "Python 2",
   "language": "python",
   "name": "python2"
  },
  "language_info": {
   "codemirror_mode": {
    "name": "ipython",
    "version": 2
   },
   "file_extension": ".py",
   "mimetype": "text/x-python",
   "name": "python",
   "nbconvert_exporter": "python",
   "pygments_lexer": "ipython2",
   "version": "2.7.10"
  }
 },
 "nbformat": 4,
 "nbformat_minor": 0
}
