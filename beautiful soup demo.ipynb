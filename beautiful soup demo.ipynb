{
 "cells": [
  {
   "cell_type": "code",
   "execution_count": 3,
   "metadata": {
    "collapsed": true
   },
   "outputs": [],
   "source": [
    "import urllib\n",
    "from collections import OrderedDict\n",
    "from bs4 import BeautifulSoup"
   ]
  },
  {
   "cell_type": "code",
   "execution_count": 5,
   "metadata": {
    "collapsed": true
   },
   "outputs": [],
   "source": [
    "# build function to extract mapping from data structure\n",
    "idd_structure=BeautifulSoup(urllib.urlopen('http://stats.oecd.org/restsdmx/sdmx.ashx/GetDataStructure/IDD'))"
   ]
  },
  {
   "cell_type": "code",
   "execution_count": 6,
   "metadata": {
    "collapsed": false
   },
   "outputs": [],
   "source": [
    "def extract_mapping(id_value, xml=idd_structure.html.body):\n",
    "    \"\"\"\n",
    "    stats.oecd.org sends back results in the same order as the\n",
    "    structure specified in XML body, so we need to use\n",
    "    an ordered dictionary to preserve the ordering\n",
    "    \"\"\"\n",
    "    output = OrderedDict()\n",
    "    subtree = xml.find(id=id_value)\n",
    "    for x in subtree.find_all('code'):\n",
    "        output[x['value']] = x.find(attrs={'xml:lang':'en'}).text\n",
    "    \n",
    "    return output"
   ]
  },
  {
   "cell_type": "code",
   "execution_count": 7,
   "metadata": {
    "collapsed": false
   },
   "outputs": [],
   "source": [
    "\"\"\"\n",
    "the 'keyfamily' tags in the structure contain the id's of all the dimension-data\n",
    "<KeyFamily id=\"IDD\" agencyID=\"OECD\">\n",
    "    <Name xml:lang=\"en\">Income Distribution and Poverty</Name>\n",
    "    <Name xml:lang=\"fr\">Distribution des revenus et pauvreté</Name>\n",
    "    <Components>\n",
    "        <Dimension codelist=\"CL_IDD_LOCATION\" conceptRef=\"LOCATION\"/>\n",
    "        <Dimension codelist=\"CL_IDD_MEASURE\" conceptRef=\"MEASURE\" isMeasureDimension=\"true\"/>\n",
    "        <Dimension codelist=\"CL_IDD_AGE\" conceptRef=\"AGE\"/>\n",
    "        <Dimension codelist=\"CL_IDD_DEFINITION\" conceptRef=\"DEFINITION\"/>\n",
    "        <Dimension codelist=\"CL_IDD_METHODO\" conceptRef=\"METHODO\"/>\n",
    "        <TimeDimension codelist=\"CL_IDD_TIME\" conceptRef=\"TIME\"/>\n",
    "        ...\n",
    "    </Components>\n",
    "...\n",
    "</KeyFamily>\n",
    "\n",
    "We can then search the dom for valid dimensions values via\n",
    "dom.find_all(id=dimension['codelist'])\n",
    "\"\"\"\n",
    "dimension_maps = {}\n",
    "for x in idd_structure.html.body.keyfamily.components.find_all('dimension'):\n",
    "    dimension_maps[x['conceptref'].lower()]=extract_mapping(x['codelist'])\n",
    "\n",
    "\"\"\" build API query:\n",
    "The format is \n",
    "\n",
    "LOCATION.MEASURE.AGE.DEFINITION.METHODO\n",
    "\n",
    "where each dimension is '+' separated\n",
    "\n",
    "For the most part, we're interest all locations,\n",
    "measures, ages, and methods, and just the 'CURRENT'\n",
    "dimension...\n",
    "age and definition only return one value...\n",
    "\"\"\"\n",
    "dimensions = ['location', 'measure', 'age', 'definition', 'methodo']\n",
    "dimension_filter = []\n",
    "for dimension in dimensions:\n",
    "    dimension_map = dimension_maps[dimension]\n",
    "    dimension_filter.append('+'.join(dimension_map.keys()))\n",
    "\n",
    "dimension_filter = '.'.join(dimension_filter)"
   ]
  },
  {
   "cell_type": "code",
   "execution_count": 8,
   "metadata": {
    "collapsed": false
   },
   "outputs": [
    {
     "name": "stdout",
     "output_type": "stream",
     "text": [
      "AUS+AUT+BEL+CAN+CZE+DNK+FIN+FRA+DEU+GRC+HUN+ISL+IRL+ITA+JPN+KOR+LUX+MEX+NLD+NZL+NOR+POL+PRT+SVK+ESP+SWE+CHE+TUR+GBR+USA+CHL+EST+ISR+RUS+NMEC+SVN.GINI+INEQ+CPI2010+REF+PVTAA1+PVTAATOTAL+PVT+ECTOTAL+INCCTOTAL+INC_CRT+TRRSSCTOTAL+TRRCTOTAL+SECTOTAL+SEICTOTAL+TACTOTAL+TRPCTOTAL+INCAC1+INCACTOTAL+INCAC2+TRPERCTOTAL+OCCTOTAL+TRRERCTOTAL+KICTOTAL+PVTAA2+PPPPRC+STDG+GINIB+PVTAA3+KCTOTAL+TRROTCTOTAL+TRPOTCTOTAL+INCAC3+INCAC4+TRCTOTAL+PVTAA4+GINIG+MEDIANC+PVTAA5+INCAC5+INCAC6+PVTAA6+PALMA+PVTAA7+INCAC7+INCHCTOTAL+PVT5B+PVTBHTOTAL+PVT5A+PMEAN5A+PMED5A+PVTAHTOTAL+PVT6B+PVT6A+PMEAN6A+PMED6A+P90P10+P90P50+P50P10+S80S20+S90S10+IND+POP+SHA1+SHA2+SHA3+SHA4+SHA5+SHA6+SHA7+HHD.TOT+WA+OLD.CURRENT+PREVIOUS+INCOMPARABLE.METH2012+METH2011\n"
     ]
    }
   ],
   "source": [
    "print dimension_filter"
   ]
  }
 ],
 "metadata": {
  "kernelspec": {
   "display_name": "Python 2",
   "language": "python",
   "name": "python2"
  },
  "language_info": {
   "codemirror_mode": {
    "name": "ipython",
    "version": 2
   },
   "file_extension": ".py",
   "mimetype": "text/x-python",
   "name": "python",
   "nbconvert_exporter": "python",
   "pygments_lexer": "ipython2",
   "version": "2.7.10"
  }
 },
 "nbformat": 4,
 "nbformat_minor": 0
}
